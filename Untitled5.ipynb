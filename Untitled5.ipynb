{
  "nbformat": 4,
  "nbformat_minor": 0,
  "metadata": {
    "colab": {
      "provenance": [],
      "authorship_tag": "ABX9TyOLxaacN6lsoyQp9VtYZvfv",
      "include_colab_link": true
    },
    "kernelspec": {
      "name": "python3",
      "display_name": "Python 3"
    },
    "language_info": {
      "name": "python"
    }
  },
  "cells": [
    {
      "cell_type": "markdown",
      "metadata": {
        "id": "view-in-github",
        "colab_type": "text"
      },
      "source": [
        "<a href=\"https://colab.research.google.com/github/Twinkle-gawri/Mini-Project-1/blob/main/Untitled5.ipynb\" target=\"_parent\"><img src=\"https://colab.research.google.com/assets/colab-badge.svg\" alt=\"Open In Colab\"/></a>"
      ]
    },
    {
      "cell_type": "markdown",
      "source": [
        "# **Subset Selection Problem**\n",
        "1. Problem Statement:\n",
        "Find all the subsets from a set of numbers whose sum is zero.\n",
        "\n",
        "Constraint: Subset size must be 5\n",
        "Set={-12, -3, -6, 7, 2, -2, 6, 3, 9, -7, -5, -8, 1, 11, -9, -4}"
      ],
      "metadata": {
        "id": "1a3wZTIXb48e"
      }
    },
    {
      "cell_type": "markdown",
      "source": [
        "# **1.1 Library inclusion**"
      ],
      "metadata": {
        "id": "28diq5-5cGIu"
      }
    },
    {
      "cell_type": "code",
      "source": [
        "import random as r"
      ],
      "metadata": {
        "id": "nx7LDIOVcLjK"
      },
      "execution_count": 1,
      "outputs": []
    },
    {
      "cell_type": "markdown",
      "source": [
        "# **1.2 Parameter Setting**"
      ],
      "metadata": {
        "id": "ua0pNMhEfIAD"
      }
    },
    {
      "cell_type": "code",
      "source": [
        "Set         = set([-12, -3, -6, 7, 2, -2, 6, 3, 9, -7, -5, -8, 1, 11, -9, -4])\n",
        "SetSize     = 5\n",
        "ResultList  = set()    # Store Result List i.e. list of sets whose sum is zero\n",
        "Iterations  = 1000    # Number of Inerations"
      ],
      "metadata": {
        "id": "NtnEUI0dfMxX"
      },
      "execution_count": 2,
      "outputs": []
    },
    {
      "cell_type": "markdown",
      "source": [
        "# **1.3 Start Program**"
      ],
      "metadata": {
        "id": "hdipAw7YfS8d"
      }
    },
    {
      "cell_type": "code",
      "source": [
        "# Loop till number of Iterations\n",
        "for i in range(Iterations):\n",
        "    # Select number of elements from Set\n",
        "    Chromosome = r.sample(Set,SetSize)\n",
        "    \n",
        "    # Sum the number of elements in the Chromosome\n",
        "    if sum(Chromosome) == 0:\n",
        "        ResultList.add(tuple(Chromosome))"
      ],
      "metadata": {
        "colab": {
          "base_uri": "https://localhost:8080/"
        },
        "id": "2MiEj8tKfjbY",
        "outputId": "16459631-3733-4fdd-cb4c-5011ba5925ac"
      },
      "execution_count": 3,
      "outputs": [
        {
          "output_type": "stream",
          "name": "stderr",
          "text": [
            "<ipython-input-3-03544d6be9f3>:4: DeprecationWarning: Sampling from a set deprecated\n",
            "since Python 3.9 and will be removed in a subsequent version.\n",
            "  Chromosome = r.sample(Set,SetSize)\n"
          ]
        }
      ]
    },
    {
      "cell_type": "markdown",
      "source": [
        "#  **1.4 Print the sets and total count**\n",
        "\n"
      ],
      "metadata": {
        "id": "Xzcmd1Pvf2om"
      }
    },
    {
      "cell_type": "code",
      "source": [
        "# Print all the sets whose sum is zero\n",
        "for r in ResultList:\n",
        "\tprint (r)\n",
        "\n",
        "# Print total sets\n",
        "print (\"\\nTotal Sets: \", len(ResultList), \"\\n\")"
      ],
      "metadata": {
        "colab": {
          "base_uri": "https://localhost:8080/"
        },
        "id": "4msqlKGCf__4",
        "outputId": "17a77027-6f0d-4858-d468-83b61dbcc951"
      },
      "execution_count": 4,
      "outputs": [
        {
          "output_type": "stream",
          "name": "stdout",
          "text": [
            "(-2, -3, 3, 9, -7)\n",
            "(3, -4, -6, 9, -2)\n",
            "(1, 9, -12, 7, -5)\n",
            "(-4, 7, -2, -12, 11)\n",
            "(9, -9, 6, 2, -8)\n",
            "(-3, 1, -7, 11, -2)\n",
            "(-5, 7, 6, -9, 1)\n",
            "(-7, 1, -2, 2, 6)\n",
            "(7, 9, -12, 2, -6)\n",
            "(-7, 2, -12, 6, 11)\n",
            "(-3, 2, 7, -12, 6)\n",
            "(-12, -3, 11, 3, 1)\n",
            "(6, 3, -7, 7, -9)\n",
            "(1, -9, 9, -4, 3)\n",
            "(1, -6, 6, -8, 7)\n",
            "(3, 6, -12, 7, -4)\n",
            "(6, -8, 7, 2, -7)\n",
            "(9, -5, 7, -3, -8)\n",
            "(6, -6, 1, 7, -8)\n",
            "(-4, 11, -5, -3, 1)\n",
            "(9, -6, -12, 2, 7)\n",
            "(-8, 2, 9, 3, -6)\n",
            "(1, 11, -6, -4, -2)\n",
            "(-4, 2, 1, 7, -6)\n",
            "(11, 6, -8, -6, -3)\n",
            "(-7, 3, -5, 7, 2)\n",
            "(-4, -9, 11, 9, -7)\n",
            "(3, -4, 9, 1, -9)\n",
            "(3, -2, -8, 6, 1)\n",
            "(-5, 9, 2, -2, -4)\n",
            "\n",
            "Total Sets:  30 \n",
            "\n"
          ]
        }
      ]
    },
    {
      "cell_type": "markdown",
      "source": [
        "# **1.5 Complete Program**"
      ],
      "metadata": {
        "id": "1yhmMfp8gFyw"
      }
    },
    {
      "cell_type": "code",
      "source": [
        "#-------------------------------------------------------------\n",
        "# Step 1: Library inclusion                             \n",
        "#-------------------------------------------------------------\n",
        "import random as r\n",
        "\n",
        "\n",
        "#-------------------------------------------------------------\n",
        "# Step 2: Parameter Setting\n",
        "#-------------------------------------------------------------\n",
        "Set         = set([-12, -3, -6, 7, 2, -2, 6, 3, 9, -7, -5, -8, 1, 11, -9, -4])\n",
        "SetSize     = 5\n",
        "ResultList  = set()    # Store Result List i.e. list of sets whose sum is zero\n",
        "Iterations  = 1000   # Number of Inerations\n",
        "\n",
        "\n",
        "#-------------------------------------------------------------\n",
        "# Step3: Start Program\n",
        "#-------------------------------------------------------------\n",
        "\n",
        "# Loop till number of Iterations\n",
        "for i in range(Iterations):\n",
        "    # Select number of elements from Set\n",
        "    Chromosome = r.sample(Set,SetSize)\n",
        "\n",
        "    # Sum the number of elements in the Chromosome\n",
        "    if sum(Chromosome) == 0:\n",
        "        ResultList.add(tuple(Chromosome))\n",
        "\n",
        "# Print all the sets whose sum is zero\n",
        "for r in ResultList:\n",
        "\tprint (r)\n",
        "\n",
        "# Print total sets\n",
        "print (\"\\nTotal Sets: \", len(ResultList))"
      ],
      "metadata": {
        "colab": {
          "base_uri": "https://localhost:8080/"
        },
        "id": "mwGYCDmOgMf8",
        "outputId": "202869af-308a-405a-a972-0ffbd82964b8"
      },
      "execution_count": 5,
      "outputs": [
        {
          "output_type": "stream",
          "name": "stdout",
          "text": [
            "(-7, -2, 7, -9, 11)\n",
            "(-9, -5, 1, 11, 2)\n",
            "(-5, -8, -7, 11, 9)\n",
            "(-5, 3, -7, 2, 7)\n",
            "(2, -2, -4, 3, 1)\n",
            "(9, -6, -3, 7, -7)\n",
            "(3, -3, -8, 6, 2)\n",
            "(-4, -2, -7, 7, 6)\n",
            "(3, 2, -8, -3, 6)\n",
            "(-2, -3, 11, 6, -12)\n",
            "(3, -2, -3, 6, -4)\n",
            "(11, 2, -4, -6, -3)\n",
            "(7, -9, 9, -2, -5)\n",
            "(-6, -5, 7, 6, -2)\n",
            "(-2, 11, 1, -7, -3)\n",
            "(9, 6, -12, 1, -4)\n",
            "(-5, -7, 11, -8, 9)\n",
            "(2, -9, -7, 11, 3)\n",
            "(-5, 7, 3, -6, 1)\n",
            "(1, 6, 9, -4, -12)\n",
            "(-4, 9, 3, 1, -9)\n",
            "(-4, -3, 7, 2, -2)\n",
            "(2, 9, -2, -12, 3)\n",
            "(3, 6, -8, -2, 1)\n",
            "(-4, 3, 6, -12, 7)\n",
            "\n",
            "Total Sets:  25\n"
          ]
        },
        {
          "output_type": "stream",
          "name": "stderr",
          "text": [
            "<ipython-input-5-863105f7322f>:23: DeprecationWarning: Sampling from a set deprecated\n",
            "since Python 3.9 and will be removed in a subsequent version.\n",
            "  Chromosome = r.sample(Set,SetSize)\n"
          ]
        }
      ]
    },
    {
      "cell_type": "markdown",
      "source": [
        "# **1.6 Complete Program with sorting**"
      ],
      "metadata": {
        "id": "u-T53cw_gX9I"
      }
    },
    {
      "cell_type": "code",
      "source": [
        "#-------------------------------------------------------------\n",
        "# Step 1: Library inclusion                             \n",
        "#-------------------------------------------------------------\n",
        "import random as r\n",
        "\n",
        "\n",
        "#-------------------------------------------------------------\n",
        "# Step 2: Parameter Setting\n",
        "#-------------------------------------------------------------\n",
        "Set         = set([-12, -3, -6, 7, 2, -2, 6, 3, 9, -7, -5, -8, 1, 11, -9, -4])\n",
        "SetSize     = 5\n",
        "ResultList  = set()    # Store Result List i.e. list of sets whose sum is zero\n",
        "Iterations  = 1000   # Number of Inerations\n",
        "\n",
        "\n",
        "#-------------------------------------------------------------\n",
        "# Step3: Start Program\n",
        "#-------------------------------------------------------------\n",
        "\n",
        "# Loop till number of Iterations\n",
        "for i in range(Iterations):\n",
        "    # Select number of elements from Set\n",
        "    Chromosome = r.sample(Set,SetSize)\n",
        "    Chromosome.sort()\n",
        "\n",
        "    # Sum the number of elements in the Chromosome\n",
        "    if sum(Chromosome) == 0:\n",
        "        ResultList.add(tuple(Chromosome))\n",
        "\n",
        "# Print all the sets whose sum is zero\n",
        "for r in ResultList:\n",
        "\tprint (r)\n",
        "\n",
        "# Print total sets\n",
        "print (\"\\nTotal Sets: \", len(ResultList))"
      ],
      "metadata": {
        "colab": {
          "base_uri": "https://localhost:8080/"
        },
        "id": "NsGUFeU8gcVu",
        "outputId": "71baa4e2-0498-4358-8a73-afce793d1cb0"
      },
      "execution_count": 6,
      "outputs": [
        {
          "output_type": "stream",
          "name": "stdout",
          "text": [
            "(-12, -6, -2, 9, 11)\n",
            "(-8, -6, -4, 7, 11)\n",
            "(-8, -4, -3, 6, 9)\n",
            "(-5, -4, -3, 1, 11)\n",
            "(-7, -4, 2, 3, 6)\n",
            "(-12, -2, 1, 6, 7)\n",
            "(-9, -7, 2, 3, 11)\n",
            "(-8, -6, 1, 6, 7)\n",
            "(-7, -4, 1, 3, 7)\n",
            "(-8, -6, -2, 7, 9)\n",
            "(-6, -4, 1, 2, 7)\n",
            "(-9, -4, -3, 7, 9)\n",
            "(-7, -3, -2, 3, 9)\n",
            "(-8, -6, -3, 6, 11)\n",
            "(-4, -3, -2, 3, 6)\n",
            "(-8, -4, -2, 3, 11)\n",
            "(-8, -4, 1, 2, 9)\n",
            "(-9, -7, 3, 6, 7)\n",
            "(-8, -5, 1, 3, 9)\n",
            "(-8, -7, -5, 9, 11)\n",
            "(-12, -5, 2, 6, 9)\n",
            "(-9, -5, -3, 6, 11)\n",
            "(-12, -5, -3, 9, 11)\n",
            "(-9, -6, -2, 6, 11)\n",
            "(-6, -3, -2, 2, 9)\n",
            "(-12, -4, 3, 6, 7)\n",
            "(-8, -3, 2, 3, 6)\n",
            "(-12, -9, 1, 9, 11)\n",
            "(-8, -6, 2, 3, 9)\n",
            "\n",
            "Total Sets:  29\n"
          ]
        },
        {
          "output_type": "stream",
          "name": "stderr",
          "text": [
            "<ipython-input-6-91cb451df7bd>:23: DeprecationWarning: Sampling from a set deprecated\n",
            "since Python 3.9 and will be removed in a subsequent version.\n",
            "  Chromosome = r.sample(Set,SetSize)\n"
          ]
        }
      ]
    },
    {
      "cell_type": "markdown",
      "source": [
        "####**2. Problem Statement:**\n",
        "Find all the subsets from a set of numbers whose sum is zero.\n",
        "\n",
        "####**Constraint: Subset size must be 3 to 6 only**\n",
        "Set={-12, -3, -6, 7, 2, -2, 6, 3, 9, -7, -5, -8, 1, 11, -9, -4}"
      ],
      "metadata": {
        "id": "xrRYrtN7gtq0"
      }
    },
    {
      "cell_type": "code",
      "source": [
        "#-------------------------------------------------------------\n",
        "# Step 1: Library inclusion                             \n",
        "#-------------------------------------------------------------\n",
        "import random as r\n",
        "\n",
        "\n",
        "#-------------------------------------------------------------\n",
        "# Step 2: Parameter Setting\n",
        "#-------------------------------------------------------------\n",
        "Set         = set([-12, -3, -6, 7, 2, -2, 6, 3, 9, -7, -5, -8, 1, 11, -9, -4])\n",
        "SetLB       = 3\n",
        "SetUB       = 6\n",
        "ResultList  = set()    # Store Result List i.e. list of sets whose sum is zero\n",
        "Iterations  = 1000   # Number of Inerations\n",
        "\n",
        "\n",
        "#-------------------------------------------------------------\n",
        "# Step3: Start Program\n",
        "#-------------------------------------------------------------\n",
        "\n",
        "# Loop till number of Iterations\n",
        "for i in range(Iterations):\n",
        "    # Select set size randomly\n",
        "    SetSize = r.randint(SetLB,SetUB)\n",
        "\t\n",
        "    # Select number of elements from Set\n",
        "    Chromosome = r.sample(Set,SetSize)\n",
        "    Chromosome.sort()\n",
        "\n",
        "    # Sum the number of elements in the Chromosome\n",
        "    if sum(Chromosome) == 0:\n",
        "        ResultList.add(tuple(Chromosome))\n",
        "\n",
        "# Print all the sets whose sum is zero\n",
        "for r in ResultList:\n",
        "\tprint (r)\n",
        "\n",
        "# Print total sets\n",
        "print (\"\\nTotal Sets: \", len(ResultList))"
      ],
      "metadata": {
        "colab": {
          "base_uri": "https://localhost:8080/"
        },
        "id": "dzE6FLbFgzwH",
        "outputId": "b56dce8a-e024-41b6-acb3-668c57904796"
      },
      "execution_count": 7,
      "outputs": [
        {
          "output_type": "stream",
          "name": "stdout",
          "text": [
            "(-12, -6, 2, 7, 9)\n",
            "(-9, -2, 11)\n",
            "(-9, -7, 7, 9)\n",
            "(-8, -3, 2, 9)\n",
            "(-9, -8, 1, 7, 9)\n",
            "(-12, -4, 3, 6, 7)\n",
            "(-9, -7, -6, 6, 7, 9)\n",
            "(-12, -5, 6, 11)\n",
            "(-4, -2, 6)\n",
            "(-7, -5, -2, 3, 11)\n",
            "(-7, -2, 9)\n",
            "(-8, -7, -3, 7, 11)\n",
            "(-9, -6, 6, 9)\n",
            "(-9, -8, -5, 2, 9, 11)\n",
            "(-8, -6, 3, 11)\n",
            "(-9, -7, -5, 1, 9, 11)\n",
            "(-12, -3, 6, 9)\n",
            "\n",
            "Total Sets:  17\n"
          ]
        },
        {
          "output_type": "stream",
          "name": "stderr",
          "text": [
            "<ipython-input-7-8bdee75e019c>:27: DeprecationWarning: Sampling from a set deprecated\n",
            "since Python 3.9 and will be removed in a subsequent version.\n",
            "  Chromosome = r.sample(Set,SetSize)\n"
          ]
        }
      ]
    }
  ]
}